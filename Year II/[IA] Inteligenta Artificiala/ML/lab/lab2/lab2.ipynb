{
 "cells": [
  {
   "cell_type": "code",
   "execution_count": null,
   "id": "c260652d",
   "metadata": {},
   "outputs": [],
   "source": [
    "import numpy as np\n",
    "import matplotlib.pyplot as plt\n",
    "\n",
    "train_images = np.loadtxt(\"train_images.txt\")\n",
    "train_labels = np.loadtxt(\"train_labels.txt\")\n",
    "\n",
    "image = train_images[2, :]\n",
    "image = np.reshape(image, (28,28))\n",
    "\n",
    "plt.imshow(image.astype(np.uint8), cmap='gray')\n",
    "plt.show()"
   ]
  },
  {
   "cell_type": "code",
   "execution_count": null,
   "id": "d5e7f08a",
   "metadata": {},
   "outputs": [],
   "source": [
    "# bins = np.linspace(start=0, stop=255, num=num_bins)\n",
    "# x_to_bins = np.digitize(x, bins)"
   ]
  },
  {
   "cell_type": "code",
   "execution_count": 5,
   "id": "2033bd0c",
   "metadata": {},
   "outputs": [
    {
     "data": {
      "text/plain": [
       "0.846"
      ]
     },
     "execution_count": 5,
     "metadata": {},
     "output_type": "execute_result"
    }
   ],
   "source": [
    "from sklearn.naive_bayes import MultinomialNB\n",
    "\n",
    "test_images = np.loadtxt(\"test_images.txt\")\n",
    "test_labels = np.loadtxt(\"test_labels.txt\")\n",
    "\n",
    "naive_bayes_model = MultinomialNB()\n",
    "\n",
    "naive_bayes_model.fit(train_images, train_labels)\n",
    "naive_bayes_model.predict(test_images)\n",
    "\n",
    "naive_bayes_model.score(test_images, test_labels)"
   ]
  },
  {
   "cell_type": "markdown",
   "id": "2eaac761",
   "metadata": {},
   "source": [
    "Ex1"
   ]
  },
  {
   "cell_type": "code",
   "execution_count": 8,
   "id": "1b02cc2c",
   "metadata": {},
   "outputs": [
    {
     "name": "stdout",
     "output_type": "stream",
     "text": [
      "Probabilitatea ca 178 cm sa fie B: 0.5\n",
      "Probabilitatea ca 178 cm sa fie F: 0.5\n"
     ]
    }
   ],
   "source": [
    "from sklearn.naive_bayes import MultinomialNB\n",
    "from sklearn.preprocessing import LabelEncoder\n",
    "import numpy as np\n",
    "\n",
    "data = [\n",
    "    (160, 'F'), (165, 'F'), (155, 'F'), (172, 'F'),\n",
    "    (175, 'B'), (180, 'B'), (177, 'B'), (190, 'B')\n",
    "]\n",
    "\n",
    "# Atribuie un bin inaltimii\n",
    "def get_bin(height):\n",
    "    if 150 <= height <= 160:\n",
    "        return 0\n",
    "    elif 161 <= height <= 170:\n",
    "        return 1\n",
    "    elif 171 <= height <= 180:\n",
    "        return 2\n",
    "    elif 181 <= height <= 190:\n",
    "        return 3\n",
    "    else:\n",
    "        return -1 \n",
    "    \n",
    "train_data = np.array([[get_bin(h)] for h, _ in data])\n",
    "y = np.array([label for _, label in data])\n",
    "\n",
    "# Codificare eticehte 0 si 1\n",
    "label_encoder = LabelEncoder()\n",
    "train_labels = label_encoder.fit_transform(y)\n",
    "\n",
    "# Antrenare\n",
    "model = MultinomialNB()\n",
    "model.fit(train_data, train_labels)\n",
    "\n",
    "test_height = 178\n",
    "test_bin = get_bin(test_height)\n",
    "test_X = np.array([[test_bin]]) # asa cere skilearn\n",
    "\n",
    "probs = model.predict_proba(test_X)[0]\n",
    "\n",
    "for label, prob in zip(label_encoder.classes_, probs):\n",
    "    print(f\"Probabilitatea ca {test_height} cm sa fie {label}: {prob}\")\n"
   ]
  },
  {
   "cell_type": "code",
   "execution_count": null,
   "id": "dbbb52c7",
   "metadata": {},
   "outputs": [],
   "source": []
  }
 ],
 "metadata": {
  "kernelspec": {
   "display_name": "Python 3",
   "language": "python",
   "name": "python3"
  },
  "language_info": {
   "codemirror_mode": {
    "name": "ipython",
    "version": 3
   },
   "file_extension": ".py",
   "mimetype": "text/x-python",
   "name": "python",
   "nbconvert_exporter": "python",
   "pygments_lexer": "ipython3",
   "version": "3.12.0"
  }
 },
 "nbformat": 4,
 "nbformat_minor": 5
}
