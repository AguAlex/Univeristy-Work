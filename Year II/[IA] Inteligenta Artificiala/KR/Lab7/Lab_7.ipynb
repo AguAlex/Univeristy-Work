{
  "cells": [
    {
      "cell_type": "markdown",
      "metadata": {
        "id": "GBMGZOZhGv45"
      },
      "source": [
        "# Rețele Bayesiene"
      ]
    },
    {
      "cell_type": "markdown",
      "metadata": {
        "id": "0O_tLvT-PTfW"
      },
      "source": [
        "## 1. Pregătirea contextului pentru rețele\n"
      ]
    },
    {
      "cell_type": "markdown",
      "metadata": {
        "id": "EDs1D3KfKwkt"
      },
      "source": [
        "Ne vom folosi de pseudocodul din curs. Considerăm tabelul distribuției probabilităților știut. Construiește graful de dependințe cu probabilitățile $P(nod)$ date."
      ]
    },
    {
      "cell_type": "code",
      "execution_count": null,
      "metadata": {
        "id": "bxTUnMPkPZx4"
      },
      "outputs": [],
      "source": []
    },
    {
      "cell_type": "markdown",
      "metadata": {
        "id": "99opajMrLHn7"
      },
      "source": [
        "## 2. INTEROGARE-RETEA"
      ]
    },
    {
      "cell_type": "markdown",
      "metadata": {
        "id": "q4X5evpPPTfY"
      },
      "source": [
        "Scrie funcția _INTEROGARE-RETEA(X)_ care, pentru nod X dat ca parametru, calculează probabilitatea $P(X)$ ca X să se întâmple."
      ]
    },
    {
      "cell_type": "code",
      "execution_count": null,
      "metadata": {
        "id": "FBC0D8taPTfY"
      },
      "outputs": [],
      "source": []
    },
    {
      "cell_type": "markdown",
      "metadata": {
        "id": "3uy7D-m5Ptnu"
      },
      "source": [
        "## 3. SUPORT-EXCEPT"
      ]
    },
    {
      "cell_type": "markdown",
      "metadata": {
        "id": "6WFRsXwIPTfZ"
      },
      "source": [
        "Scrie funcția _SUPORT-EXCEPT(X, V)_ care, pentru un nod X și un nod V calculează probabilitatea $P(X | E_{X\\V})$ ca X să se întâmple fără a trece prin V."
      ]
    },
    {
      "cell_type": "code",
      "execution_count": null,
      "metadata": {
        "id": "vD4V9HW4PTfZ"
      },
      "outputs": [],
      "source": []
    },
    {
      "cell_type": "markdown",
      "metadata": {
        "id": "kRcbiXVfQhAy"
      },
      "source": [
        "## 4. DOVEZI-EXCEPT"
      ]
    },
    {
      "cell_type": "markdown",
      "metadata": {
        "id": "iRe4sB2fPTfa"
      },
      "source": [
        "Scrie funcția _DOVEZI-EXCEPT(X, E)_ care, pentru un nod X și un nod V calculează probabilitatea $P(E^-_{X\\V} | X)$ ca fii lui X cu excepția lui V să se întâmple."
      ]
    },
    {
      "cell_type": "code",
      "execution_count": null,
      "metadata": {
        "id": "Bhbr8Da0PTfa"
      },
      "outputs": [],
      "source": []
    }
  ],
  "metadata": {
    "colab": {
      "provenance": []
    },
    "kernelspec": {
      "display_name": "Python 3",
      "name": "python3"
    },
    "language_info": {
      "name": "python"
    }
  },
  "nbformat": 4,
  "nbformat_minor": 0
}