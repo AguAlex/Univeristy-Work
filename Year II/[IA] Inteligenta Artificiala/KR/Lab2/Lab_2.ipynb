{
  "cells": [
    {
      "cell_type": "markdown",
      "metadata": {
        "id": "Fh8ZrWzvhjP9"
      },
      "source": [
        "# Problema canibalilor și misionarilor"
      ]
    },
    {
      "cell_type": "markdown",
      "metadata": {
        "id": "jKH7v_oYhiFJ"
      },
      "source": [
        "Pe malul unui râu se află N canibali și N misionari. Lângă ei se află o barcă cu maxim M locuri. Toată lumea vrea să ajungă pe partea cealaltă a râului, dar nimeni nu știe să înoate.\n",
        "\n",
        "Nici pe barcă, nici pe vreun mal nu trebuie să fie vreodată mai mulți canibali decât misionari (altfel o să îi mănânce). În barcă trebuie să fie mereu minim un om și maxim M oameni. Permutările între mal și barcă au loc instantaneu, așadar nu ne punem problema ordinii în care coboară sau urcă oamenii în barcă.\n",
        "\n",
        "Care este o secvență de acțiuni în urma căreia toți oamenii să ajungă pe celălalt mal fără ca misionarii să ajungă prânz pentru canibali?\n",
        "\n",
        "*Problema clasica este cu N=3 (canibali / misionari) și M=2 (locuri în barcă).*"
      ]
    },
    {
      "cell_type": "markdown",
      "metadata": {
        "id": "rxYvWaeI4ArO"
      },
      "source": [
        "## 1. Clasa Nod"
      ]
    },
    {
      "cell_type": "markdown",
      "metadata": {
        "id": "FG42UPR34E09"
      },
      "source": [
        "Modificați informația clasei Nod pentru datele jocului curent. Noua informație va include:\n",
        "* numărul de canibali pe malul stâng;\n",
        "* numărul de misionari pe malul stâng;\n",
        "* poziția bărcii (malul pe care seaflă).\n",
        "\n",
        "Citiți dintr-un **_fișier_** valorile parametrilor N (primul rând) și M (al doilea rând) și păstrați-le ca elemente statice în clasă. Puteți pune valori default în clasă N=3 și M=2.\n",
        "\n",
        "Implementați următoarele metode:\n",
        "* constructorul clasei -> *\\_\\_init__*\n",
        "* egalitatea -> *\\_\\_eq__*\n",
        "* transformarea în obiect de tip string a informației nodului curent -> *\\_\\_str__*\n",
        "* transformarea în obiect de tip string a informației elementelor dintr-o listă -> *\\_\\_repr__*\n",
        "* succesori -> calculează lista succesorilor direcți ai stării curente\n",
        "\n",
        "_Observații:_\n",
        "* Informația nodului curent va fi afișată de forma:\n",
        "```\n",
        "Stare curentă:\n",
        "3 misionari, 3 canibali  | 0 misionari, 0 canibali\n",
        "Barca se află pe malul stâng\n",
        "```\n",
        "* Informația elementului dintr-o listă va fi afișată de forma:\n",
        "```\n",
        "(3, 3, 0)\n",
        "```\n",
        "Unde tuplul reprezintă (<număr misionari pe malul stâng>, <număr canibali pe malul stâng>, <malul pe care se află barca>)"
      ]
    },
    {
      "cell_type": "code",
      "execution_count": null,
      "metadata": {
        "id": "Ij-kD5mU9BKS"
      },
      "outputs": [],
      "source": [
        "import copy\n",
        "\n",
        "class Nod:\n",
        "\n",
        "  N = 3\n",
        "  M = 2\n",
        "  def __init__(self, canibali, locuri_barca):\n",
        "    self.misionari_stang = self.N\n",
        "    self.calibali_stang = self.N\n",
        "    mal_barca = -1\n",
        "\n",
        "  def drumRadacina(self):\n",
        "    ''' Calculeaza lista nodurilor de la radacina pana la nodul curent. '''\n",
        "    if self.parinte is None:\n",
        "      return [self]\n",
        "    return self.parinte.drumRadacina() + [self]\n",
        "\n",
        "\n",
        "  def vizitat(self):\n",
        "    ''' Returneaza True daca nodul curent a fost deja vizitat, False altfel. '''\n",
        "    return len([1 for nod in self.drumRadacina() if nod == self]) > 1\n",
        "\n",
        "  def __str__(self):\n",
        "    return f\"Stare curenta:\\n\" \\\n",
        "    f\"{self.misionari_stang} misionari, {self.calibali_stang} canibali | \" \\\n",
        "    f\"{self.N - self.misionari_stang} misionari, {self.N - self.calibali_stang} canibali\" \\\n",
        "    f\"Barca se afla pe malul {\"stang\" if self.mal_barca == -1 else \"drept\"}\"\n",
        "\n",
        "  def __repr__(self):\n",
        "    return f\"({self.misionari} {self.canibali} {self.barca})\"\n",
        "\n",
        "\n",
        "  def succesori(self):\n",
        "    ''' Calculeaza lista succesorilor directi ai starii curente.\n",
        "    :return: lista starilor admisibile\n",
        "    '''\n",
        "    lista_succesori = []\n",
        "\n",
        "    for n_misionari in range(self.N + 1):\n",
        "      for n_canibali in range(self.N + 1):\n",
        "        if (n_canibali > n_misionari) and (n_misionari > 0):\n",
        "          continue"
      ]
    },
    {
      "cell_type": "markdown",
      "metadata": {
        "id": "_HtAc0J46xEV"
      },
      "source": [
        "Modificați următoarele funcții din clasa Graf pentru problema curentă:\n",
        "* scop - verifică dacă toți oamenii au ajuns pe malul drept\n",
        "* succesori - generează lista de succesori valizi ai stării curente\n",
        "\n",
        "Sugestie: Apelați metoda _succesori_ al unui Nod pentru a calcula succesorii unei stări. Nu uitați să verificați că succesorul nu a mai fost vizitat în drumul de la rădăcină!"
      ]
    },
    {
      "cell_type": "code",
      "execution_count": null,
      "metadata": {
        "id": "qyOODCJW9CFz"
      },
      "outputs": [],
      "source": []
    },
    {
      "cell_type": "markdown",
      "metadata": {
        "id": "D92Wk8Y49Dgg"
      },
      "source": [
        "## 3. Căutarea drumului"
      ]
    },
    {
      "cell_type": "markdown",
      "metadata": {
        "id": "B6WYHcX99CSv"
      },
      "source": [
        "Creați o funcție *printDrumRadacina()* care returnează drumul până la nodul curent în formatul de mai jos. Rulați problema cu BFS / DFS pentru N=3, M=2 și NSOL=2 (numărul de soluții cerute) și afișați într-un fișier cu calea dată de la tastatură drumul de la rădăcină până la nodul curent (în formatul precizat anterior) și timpul de rulare al algoritmului:\n",
        "\n",
        "```\n",
        "Stare curentă:\n",
        "3 misionari, 3 canibali  | 0 misionari, 0 canibali\n",
        "Barca se află pe malul stâng\n",
        "\n",
        "Barca s-a deplasat de pe malul stâng pe malul drept cu 0 misionari și 2 canibali.\n",
        "\n",
        "Stare curentă:\n",
        "3 misionari, 1 canibali  | 0 misionari, 2 canibali\n",
        "Barca se află pe malul drept\n",
        "\n",
        "...\n",
        "\n",
        "Stare curentă:\n",
        "0 misionari, 0 canibali  | 3 misionari, 3 canibali\n",
        "Barca se află pe malul drept\n",
        "\n",
        "Timpul de rulare: 0.00021839141845703125 secunde.\n",
        "```"
      ]
    },
    {
      "cell_type": "code",
      "execution_count": null,
      "metadata": {
        "id": "QmeEt8oiATe9"
      },
      "outputs": [],
      "source": []
    },
    {
      "cell_type": "markdown",
      "metadata": {
        "id": "9ofkJ7RpBgaQ"
      },
      "source": [
        "## 4. Problemă alternativă"
      ]
    },
    {
      "cell_type": "markdown",
      "metadata": {
        "id": "m22ELUFfEPnx"
      },
      "source": [
        "Modificați problema astfel încât în starea inițială avem un număr NM de misionari pe malul stâng și un alt număr NC de canibali pe malul drept, iar toată lumea își dorește să traverseze râul.\n",
        "\n",
        "Canibalii pot mânca misionarii doar pe malul drept sau în barcă (malul stâng este foarte aproape de tabăra misionarilor în care au fost plasate mai mult de NC gărzi care se asigură că totul este în regulă).\n",
        "\n",
        "Barca se află inițial pe malul stâng (al misionarilor) întrucât aceștia sunt singurii care știu să o conducă.\n",
        "\n",
        "NM > 0, NC > 0, M >= 2\n",
        "\n",
        "**Atenție:** asta înseamnă că în barcă trebuie să fie mereu minim un misionar."
      ]
    },
    {
      "cell_type": "code",
      "execution_count": null,
      "metadata": {
        "id": "o06im1ZLG682"
      },
      "outputs": [],
      "source": []
    }
  ],
  "metadata": {
    "colab": {
      "provenance": []
    },
    "kernelspec": {
      "display_name": "Python 3",
      "name": "python3"
    },
    "language_info": {
      "codemirror_mode": {
        "name": "ipython",
        "version": 3
      },
      "file_extension": ".py",
      "mimetype": "text/x-python",
      "name": "python",
      "nbconvert_exporter": "python",
      "pygments_lexer": "ipython3",
      "version": "3.12.0"
    }
  },
  "nbformat": 4,
  "nbformat_minor": 0
}
